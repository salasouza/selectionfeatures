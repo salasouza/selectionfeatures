{
 "cells": [
  {
   "cell_type": "code",
   "execution_count": null,
   "id": "5402070a-8f9d-4468-b16c-1ec9bf6aa107",
   "metadata": {},
   "outputs": [],
   "source": []
  },
  {
   "cell_type": "code",
   "execution_count": 24,
   "id": "f0472c2d-055c-4fa6-a28c-0c94c2453a5b",
   "metadata": {
    "tags": []
   },
   "outputs": [],
   "source": [
    "import pandas as pd\n",
    "import numpy as np\n",
    "import seaborn as sns\n",
    "import matplotlib.pyplot as plt\n",
    "import warnings\n",
    "from sklearn.linear_model import LogisticRegressionCV, LogisticRegression\n",
    "from sklearn.feature_selection import RFE\n",
    "from sklearn.linear_model import Ridge"
   ]
  },
  {
   "cell_type": "code",
   "execution_count": 2,
   "id": "fe83ba66-90c2-4cf3-9802-d5db6622875c",
   "metadata": {},
   "outputs": [],
   "source": [
    "warnings.filterwarnings('ignore')\n",
    "\n",
    "def setup_matplot(titlesize=int(14),labelsize=int(12)):\n",
    "    import matplotlib.pyplot as plt\n",
    "    plt.rcParams['figure.figsize'] = [10,8]\n",
    "    plt.rcParams['figure.titlesize'] = titlesize\n",
    "    plt.rcParams['figure.labelsize'] = labelsize\n",
    "    return(plt)\n",
    "\n",
    "plt = setup_matplot()"
   ]
  },
  {
   "cell_type": "code",
   "execution_count": 3,
   "id": "ed332bc2-3a62-4b91-bbe5-aba3ee088049",
   "metadata": {},
   "outputs": [],
   "source": [
    "path = 'database/diabetes.csv'\n",
    "\n",
    "df = pd.read_csv(f'{path}')"
   ]
  },
  {
   "cell_type": "code",
   "execution_count": 4,
   "id": "d8e64304-0f6e-4510-8b55-51841f707a90",
   "metadata": {},
   "outputs": [],
   "source": [
    "X = df[['Pregnancies', 'Glucose', 'BloodPressure', 'SkinThickness', 'Insulin', 'BMI', 'DiabetesPedigreeFunction', 'Age']]\n",
    "\n",
    "y = df['Outcome']"
   ]
  },
  {
   "cell_type": "code",
   "execution_count": 5,
   "id": "2db19be1-4180-4ebb-b8df-f2ee9e3da93b",
   "metadata": {},
   "outputs": [
    {
     "data": {
      "text/plain": [
       "['Pregnancies',\n",
       " 'Glucose',\n",
       " 'BloodPressure',\n",
       " 'SkinThickness',\n",
       " 'Insulin',\n",
       " 'BMI',\n",
       " 'DiabetesPedigreeFunction',\n",
       " 'Age']"
      ]
     },
     "execution_count": 5,
     "metadata": {},
     "output_type": "execute_result"
    }
   ],
   "source": [
    "features_names = list(X.columns)\n",
    "\n",
    "features_names"
   ]
  },
  {
   "cell_type": "code",
   "execution_count": 6,
   "id": "3b037d27-0d2d-4a52-82a0-0a9e4c328ccc",
   "metadata": {},
   "outputs": [],
   "source": [
    "X = X.to_numpy()\n",
    "y = y.to_numpy()"
   ]
  },
  {
   "cell_type": "code",
   "execution_count": 7,
   "id": "9686ff32-fc9d-4b80-a22e-e9ecb4510151",
   "metadata": {},
   "outputs": [],
   "source": [
    "random_state=1122"
   ]
  },
  {
   "cell_type": "code",
   "execution_count": 9,
   "id": "065de048-1461-4384-8e77-77ce2a453f43",
   "metadata": {},
   "outputs": [
    {
     "data": {
      "text/plain": [
       "LogisticRegressionCV(random_state=2211)"
      ]
     },
     "execution_count": 9,
     "metadata": {},
     "output_type": "execute_result"
    }
   ],
   "source": [
    "logistic = LogisticRegressionCV(random_state=2211)\n",
    "\n",
    "logistic.fit(X,y)"
   ]
  },
  {
   "cell_type": "code",
   "execution_count": 10,
   "id": "7435b8ac-1142-428b-8132-b263972b28e3",
   "metadata": {
    "tags": []
   },
   "outputs": [
    {
     "data": {
      "text/plain": [
       "array([[ 0.10096014,  0.03479634, -0.01314834,  0.00272467, -0.00098841,\n",
       "         0.08669304,  0.06184281,  0.01808477]])"
      ]
     },
     "execution_count": 10,
     "metadata": {},
     "output_type": "execute_result"
    }
   ],
   "source": [
    "logistic.coef_"
   ]
  },
  {
   "cell_type": "code",
   "execution_count": 11,
   "id": "4e97d74d-892a-4dfa-8c1f-aaab85d975db",
   "metadata": {
    "tags": []
   },
   "outputs": [],
   "source": [
    "importances = logistic.coef_[0]\n",
    "\n",
    "logistic_importances = pd.Series(importances, index=features_names)\n",
    "\n",
    "std = np.std(logistic.scores_[1], axis=0)"
   ]
  },
  {
   "cell_type": "code",
   "execution_count": 28,
   "id": "e0a5d877-c05b-4190-b62d-b6b3c62b2030",
   "metadata": {
    "tags": []
   },
   "outputs": [
    {
     "data": {
      "text/html": [
       "<div>\n",
       "<style scoped>\n",
       "    .dataframe tbody tr th:only-of-type {\n",
       "        vertical-align: middle;\n",
       "    }\n",
       "\n",
       "    .dataframe tbody tr th {\n",
       "        vertical-align: top;\n",
       "    }\n",
       "\n",
       "    .dataframe thead th {\n",
       "        text-align: right;\n",
       "    }\n",
       "</style>\n",
       "<table border=\"1\" class=\"dataframe\">\n",
       "  <thead>\n",
       "    <tr style=\"text-align: right;\">\n",
       "      <th></th>\n",
       "      <th>Feature</th>\n",
       "      <th>Importancy</th>\n",
       "    </tr>\n",
       "  </thead>\n",
       "  <tbody>\n",
       "    <tr>\n",
       "      <th>0</th>\n",
       "      <td>Pregnancies</td>\n",
       "      <td>0.100960</td>\n",
       "    </tr>\n",
       "    <tr>\n",
       "      <th>5</th>\n",
       "      <td>BMI</td>\n",
       "      <td>0.086693</td>\n",
       "    </tr>\n",
       "    <tr>\n",
       "      <th>6</th>\n",
       "      <td>DiabetesPedigreeFunction</td>\n",
       "      <td>0.061843</td>\n",
       "    </tr>\n",
       "    <tr>\n",
       "      <th>1</th>\n",
       "      <td>Glucose</td>\n",
       "      <td>0.034796</td>\n",
       "    </tr>\n",
       "    <tr>\n",
       "      <th>7</th>\n",
       "      <td>Age</td>\n",
       "      <td>0.018085</td>\n",
       "    </tr>\n",
       "    <tr>\n",
       "      <th>3</th>\n",
       "      <td>SkinThickness</td>\n",
       "      <td>0.002725</td>\n",
       "    </tr>\n",
       "    <tr>\n",
       "      <th>4</th>\n",
       "      <td>Insulin</td>\n",
       "      <td>-0.000988</td>\n",
       "    </tr>\n",
       "    <tr>\n",
       "      <th>2</th>\n",
       "      <td>BloodPressure</td>\n",
       "      <td>-0.013148</td>\n",
       "    </tr>\n",
       "  </tbody>\n",
       "</table>\n",
       "</div>"
      ],
      "text/plain": [
       "                    Feature  Importancy\n",
       "0               Pregnancies    0.100960\n",
       "5                       BMI    0.086693\n",
       "6  DiabetesPedigreeFunction    0.061843\n",
       "1                   Glucose    0.034796\n",
       "7                       Age    0.018085\n",
       "3             SkinThickness    0.002725\n",
       "4                   Insulin   -0.000988\n",
       "2             BloodPressure   -0.013148"
      ]
     },
     "execution_count": 28,
     "metadata": {},
     "output_type": "execute_result"
    }
   ],
   "source": [
    "logistic_df = pd.DataFrame(logistic_importances).reset_index().rename(columns={'index':'Feature', 0:'Importancy'})\n",
    "\n",
    "logistic_df.sort_values(by='Importancy', ascending=False, inplace=True)\n",
    "\n",
    "logistic_df"
   ]
  },
  {
   "cell_type": "code",
   "execution_count": 29,
   "id": "ff623f71-10cb-4f05-adcf-17ca2660d7dd",
   "metadata": {
    "tags": []
   },
   "outputs": [
    {
     "data": {
      "image/png": "[encoded data removed]",
      "text/plain": [
       "<Figure size 432x288 with 1 Axes>"
      ]
     },
     "metadata": {
      "needs_background": "light"
     },
     "output_type": "display_data"
    }
   ],
   "source": [
    "sns.barplot(data=logistic_df, y='Feature', x='Importancy')\n",
    "plt.title('Importancy of features')\n",
    "plt.xticks(rotation=270)\n",
    "plt.show()"
   ]
  }
 ],
 "metadata": {
  "kernelspec": {
   "display_name": "Python 3",
   "language": "python",
   "name": "python3"
  },
  "language_info": {
   "codemirror_mode": {
    "name": "ipython",
    "version": 3
   },
   "file_extension": ".py",
   "mimetype": "text/x-python",
   "name": "python",
   "nbconvert_exporter": "python",
   "pygments_lexer": "ipython3",
   "version": "3.9.13"
  }
 },
 "nbformat": 4,
 "nbformat_minor": 5
}
