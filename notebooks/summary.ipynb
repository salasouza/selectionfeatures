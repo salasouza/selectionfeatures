{
 "cells": [
  {
   "cell_type": "markdown",
   "id": "95b645a7-6798-4535-ac69-7cb40f3a9745",
   "metadata": {},
   "source": [
    "<h1>Summary</h1>"
   ]
  },
  {
   "cell_type": "markdown",
   "id": "7ef9ca2f-ca92-4f31-a908-6e97ba40ad88",
   "metadata": {},
   "source": [
    "[1. Select Kbest CHI²](http://127.0.0.1:8888/lab/tree/notebooks/selectkbest.ipynb)\n",
    "    \n",
    "[2. Tree decision](http://127.0.0.1:8888/lab/tree/notebooks/extratreesclassifier.ipynb)\n",
    "    \n",
    "[3. Random Forest](http://127.0.0.1:8888/lab/tree/notebooks/randomforest.ipynb)\n",
    "    \n",
    "[4. Shap](http://127.0.0.1:8888/lab/tree/notebooks/shap.ipynb)\n",
    "    \n",
    "[5. Logistic](http://127.0.0.1:8888/lab/tree/notebooks/logistic.ipynb)"
   ]
  }
 ],
 "metadata": {
  "kernelspec": {
   "display_name": "Python 3",
   "language": "python",
   "name": "python3"
  },
  "language_info": {
   "codemirror_mode": {
    "name": "ipython",
    "version": 3
   },
   "file_extension": ".py",
   "mimetype": "text/x-python",
   "name": "python",
   "nbconvert_exporter": "python",
   "pygments_lexer": "ipython3",
   "version": "3.9.13"
  }
 },
 "nbformat": 4,
 "nbformat_minor": 5
}
